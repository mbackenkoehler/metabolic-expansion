{
 "cells": [
  {
   "cell_type": "code",
   "execution_count": 63,
   "id": "d53405e9-d849-418d-a7f8-54560895b8bf",
   "metadata": {},
   "outputs": [],
   "source": [
    "import json\n",
    "import pandas as pd\n",
    "from pyvis.network import Network"
   ]
  },
  {
   "cell_type": "code",
   "execution_count": 93,
   "id": "534f7c8e-c01d-473f-aa59-aee5e5c1609e",
   "metadata": {},
   "outputs": [],
   "source": [
    "names = pd.read_csv('../data/compound_info/compound', sep='\\t', header=None, names=['KEGG', 'names'])\n",
    "names['name'] = [sorted(ns, key=len)[0] for ns in names['names'].str.split(';')]\n",
    "names.set_index('KEGG', inplace=True)"
   ]
  },
  {
   "cell_type": "code",
   "execution_count": 94,
   "id": "f6da00a2-824b-42b8-aa32-7494f12b9654",
   "metadata": {},
   "outputs": [],
   "source": [
    "def build_graph_from_tree(tree_data):\n",
    "    \"\"\"\n",
    "    Build a graph from a tree structure where each node corresponds to a unique hash,\n",
    "    and edges are based on the connections in the tree.\n",
    "    :param tree_data: The tree data (dict)\n",
    "    :return: A PyVis network instance\n",
    "    \"\"\"\n",
    "    net = Network(height='1200px', width='100%', directed=True)\n",
    "    added_edges = set() \n",
    "\n",
    "    def traverse_and_add(node, parent_hash=None):\n",
    "        \"\"\"\n",
    "        Recursively traverse the tree and add nodes and edges to the graph.\n",
    "        :param node: Current node in the tree (dict)\n",
    "        :param parent_hash: Hash of the parent node (if any)\n",
    "        \"\"\"\n",
    "        current_hash = node['hash']\n",
    "        label = ', '.join(names.loc[kegg_id, 'name'] for kegg_id in node['novel'])\n",
    "\n",
    "        net.add_node(current_hash, label=label, color='red' if parent_hash is None else 'blue')\n",
    "\n",
    "        if parent_hash is not None:\n",
    "            edge = (parent_hash, current_hash, node.get('incoming', ''))\n",
    "            if edge not in added_edges:\n",
    "                net.add_edge(parent_hash, current_hash, label=edge[2])\n",
    "                added_edges.add(edge)\n",
    "                \n",
    "        children = node.get('children', [])\n",
    "        if children is None:\n",
    "            return\n",
    "        for child in children:\n",
    "            traverse_and_add(child, current_hash)\n",
    "\n",
    "    traverse_and_add(tree_data)\n",
    "    return net\n",
    "\n",
    "\n",
    "# Visualize the tree"
   ]
  },
  {
   "cell_type": "code",
   "execution_count": 100,
   "id": "c0f9b922-1d2b-4b51-aaad-525ee806a1ec",
   "metadata": {},
   "outputs": [
    {
     "data": {
      "text/plain": [
       "<class 'pyvis.network.Network'> |N|=229 |E|=257"
      ]
     },
     "execution_count": 100,
     "metadata": {},
     "output_type": "execute_result"
    }
   ],
   "source": [
    "with open('../data/searchspace.json') as f:\n",
    "    d = json.load(f)\n",
    "net = build_graph_from_tree(d)\n",
    "net"
   ]
  },
  {
   "cell_type": "code",
   "execution_count": 101,
   "id": "4c4c021b-f99c-4575-ad5a-e7400fa791f5",
   "metadata": {},
   "outputs": [
    {
     "name": "stdout",
     "output_type": "stream",
     "text": [
      "searchspace.html\n"
     ]
    }
   ],
   "source": [
    "net.show('searchspace.html', notebook=False)"
   ]
  },
  {
   "cell_type": "code",
   "execution_count": null,
   "id": "15b52e1f-cdb3-4798-b56c-f7889bee240c",
   "metadata": {},
   "outputs": [],
   "source": []
  }
 ],
 "metadata": {
  "kernelspec": {
   "display_name": "Python 3 (ipykernel)",
   "language": "python",
   "name": "python3"
  },
  "language_info": {
   "codemirror_mode": {
    "name": "ipython",
    "version": 3
   },
   "file_extension": ".py",
   "mimetype": "text/x-python",
   "name": "python",
   "nbconvert_exporter": "python",
   "pygments_lexer": "ipython3",
   "version": "3.13.1"
  }
 },
 "nbformat": 4,
 "nbformat_minor": 5
}
